{
 "cells": [
  {
   "cell_type": "code",
   "execution_count": 120,
   "metadata": {},
   "outputs": [],
   "source": [
    "library(seqinr)\n",
    "library(MASS)"
   ]
  },
  {
   "cell_type": "markdown",
   "metadata": {},
   "source": [
    "First of all, in order to produce the list of prime numbers required, we will use a function for the [Sieve of Eratosthenes](https://en.wikipedia.org/wiki/Sieve_of_Eratosthenes)."
   ]
  },
  {
   "cell_type": "code",
   "execution_count": 121,
   "metadata": {},
   "outputs": [],
   "source": [
    "sieve <- function(n) {\n",
    "  n <- as.integer(n)\n",
    "  if(n > 1e6) stop(\"n too large\")\n",
    "  primes <- rep(TRUE, n)\n",
    "  primes[1] <- FALSE\n",
    "  last.prime <- 2L\n",
    "  for(i in last.prime:floor(sqrt(n)))\n",
    "  {\n",
    "    primes[seq.int(2L*last.prime, n, last.prime)] <- FALSE\n",
    "    last.prime <- last.prime + min(which(primes[(last.prime+1):n]))\n",
    "  }\n",
    "  which(primes)\n",
    "}"
   ]
  },
  {
   "cell_type": "markdown",
   "metadata": {},
   "source": [
    "The next function reads a FASTA formated text file, either for DNA or AA sequences:"
   ]
  },
  {
   "cell_type": "code",
   "execution_count": 122,
   "metadata": {},
   "outputs": [],
   "source": [
    "seqList <- function(x, type) {\n",
    "  if (type == \"DNA\") {\n",
    "    as.list(read.fasta(x,\n",
    "                       as.string = FALSE,\n",
    "                       seqtype=\"DNA\",\n",
    "                       seqonly = FALSE,\n",
    "                       strip.desc = TRUE))\n",
    "  }\n",
    "  else {\n",
    "    if (type == \"AA\") {\n",
    "      as.list(read.fasta(x,\n",
    "                         as.string = FALSE,\n",
    "                         seqtype=\"AA\",\n",
    "                         seqonly = FALSE,\n",
    "                         strip.desc = TRUE))\n",
    "    }\n",
    "    else {\n",
    "      NULL\n",
    "    }\n",
    "  }\n",
    "}"
   ]
  },
  {
   "cell_type": "markdown",
   "metadata": {},
   "source": [
    "Function fdsf"
   ]
  },
  {
   "cell_type": "code",
   "execution_count": 123,
   "metadata": {},
   "outputs": [],
   "source": [
    "createRandomSequencesBasedOnDistr <- function(count, length, prob=c(0.25,0.25,0.25,0.25), fileNameRandSeqs) {\n",
    "  \n",
    "  sink(fileNameRandSeqs)\n",
    "  for (i in 1:count) {\n",
    "    cat(\">Seq\", i, \"\\n\", sep = \"\")\n",
    "    seqX <- sample(c(\"A\",\"C\",\"G\",\"T\"), length, rep=TRUE, prob)\n",
    "    cat(paste(seqX,collapse=\"\"), \"\\n\", sep = \"\")\n",
    "  }\n",
    "  sink()\n",
    "}"
   ]
  },
  {
   "cell_type": "markdown",
   "metadata": {},
   "source": [
    "Function"
   ]
  },
  {
   "cell_type": "code",
   "execution_count": 124,
   "metadata": {},
   "outputs": [],
   "source": [
    "createRandomSequenceValues <- function(seedList, type) {\n",
    "  \n",
    "  if ( type == \"DNA\" ) {\n",
    "    results <- matrix(, nrow = length(seedList), ncol = 4)\n",
    "  }\n",
    "  else if ( type == \"AA\" ) {\n",
    "    results <- matrix(, nrow = length(seedList), ncol = 23)\n",
    "  }\n",
    "  \n",
    "  for (i in 1:length(seedList)) {\n",
    "    if ( type == \"DNA\" ) {\n",
    "      results[i,] <- sample(seq(from = 1, to = 4, by = 1), size = 4, replace = FALSE)\n",
    "    }\n",
    "    else if ( type == \"AA\" ) {\n",
    "      results[i,] <- sample(seq(from = 1, to = 23, by = 1), size = 23, replace = FALSE)\n",
    "    }\n",
    "  }\n",
    "  return(results)\n",
    "}"
   ]
  },
  {
   "cell_type": "markdown",
   "metadata": {},
   "source": [
    "The next function assigns random values to each of the letters (either the four bases in DNA or the 22+1 aminoacids). In each case, the exact random sequence is printed out, in order to retrieve the exact allocation if necessary:"
   ]
  },
  {
   "cell_type": "code",
   "execution_count": 125,
   "metadata": {},
   "outputs": [],
   "source": [
    "assignSets <- function(randSequenceValues, type) {\n",
    "\n",
    "  if (type == \"DNA\") {\n",
    "    #DNA Set\n",
    "    cat(\"Sequence Values: (\")\n",
    "    for (i in 1:4) {\n",
    "      cat(paste(randSequenceValues[i], \", \"))\n",
    "    }\n",
    "    cat(\")\\n\")\n",
    "    assign(\"a\", randSequenceValues[1], envir = .GlobalEnv)\n",
    "    assign(\"t\", randSequenceValues[2], envir = .GlobalEnv)\n",
    "    assign(\"g\", randSequenceValues[3], envir = .GlobalEnv)\n",
    "    assign(\"c\", randSequenceValues[4], envir = .GlobalEnv)\n",
    "  }\n",
    "  else if ( type == \"AA\") {\n",
    "    # AA Set 1\n",
    "    cat(\"Sequence Values: (\")\n",
    "    for (i in 1:23) {\n",
    "      cat(paste(randSequenceValues[i], \", \"))\n",
    "    }\n",
    "    cat(\")\\n\")\n",
    "    assign(\"A\", randSequenceValues[1], envir = .GlobalEnv) # alanine, ala\n",
    "    assign(\"R\", randSequenceValues[2], envir = .GlobalEnv) # arginine, arg\n",
    "    assign(\"N\", randSequenceValues[3], envir = .GlobalEnv) # asparagine, asn\n",
    "    assign(\"D\", randSequenceValues[4], envir = .GlobalEnv) # aspartic acid, asp\n",
    "    assign(\"B\", randSequenceValues[5], envir = .GlobalEnv) # sparagine or aspartic acid, asx\n",
    "    assign(\"C\", randSequenceValues[6], envir = .GlobalEnv) # cysteine, cys\n",
    "    assign(\"E\", randSequenceValues[7], envir = .GlobalEnv) # glutamic acid, glu\n",
    "    assign(\"Q\", randSequenceValues[8], envir = .GlobalEnv) # glutamine, gln\n",
    "    assign(\"Z\", randSequenceValues[9], envir = .GlobalEnv) # glutamine or glutamic acid, glx\n",
    "    assign(\"G\", randSequenceValues[10], envir = .GlobalEnv) # glycine, gly\n",
    "    assign(\"H\", randSequenceValues[11], envir = .GlobalEnv) # histidine, his\n",
    "    assign(\"I\", randSequenceValues[12], envir = .GlobalEnv) # isoleucine, ile\n",
    "    assign(\"L\", randSequenceValues[13], envir = .GlobalEnv) # leucine, leu\n",
    "    assign(\"K\", randSequenceValues[14], envir = .GlobalEnv) # lysine, lys\n",
    "    assign(\"M\", randSequenceValues[15], envir = .GlobalEnv) # methionine, met\n",
    "    assign(\"F\", randSequenceValues[16], envir = .GlobalEnv) # phenylalanine, phe\n",
    "    assign(\"P\", randSequenceValues[17], envir = .GlobalEnv) # proline, pro\n",
    "    assign(\"S\", randSequenceValues[18], envir = .GlobalEnv) # serine, ser\n",
    "    assign(\"T\", randSequenceValues[19], envir = .GlobalEnv) # threonine, thr\n",
    "    assign(\"W\", randSequenceValues[20], envir = .GlobalEnv) # tryptophan, trp\n",
    "    assign(\"Y\", randSequenceValues[21], envir = .GlobalEnv) # tyrosine, tyr\n",
    "    assign(\"V\", randSequenceValues[22], envir = .GlobalEnv) # valine, val\n",
    "    assign(\"X\", randSequenceValues[23], envir = .GlobalEnv) # undetermined\n",
    "  }\n",
    "}"
   ]
  },
  {
   "cell_type": "markdown",
   "metadata": {},
   "source": [
    "The next function is purely for support, and prints out the statistical summaries of the input variables:"
   ]
  },
  {
   "cell_type": "code",
   "execution_count": 126,
   "metadata": {},
   "outputs": [],
   "source": [
    "godelStatistics <- function(x) {\n",
    "    \n",
    "  if (logOutput) {\n",
    "    cat(paste(\"  Min  : \", summary(x)[1], \"\\n\"))\n",
    "    cat(paste(\"1st Qu.: \", summary(x)[2], \"\\n\"))\n",
    "    cat(paste(\"Median : \", summary(x)[3], \"\\n\"))\n",
    "    cat(paste(\" Mean  : \", summary(x)[4], \"\\n\"))\n",
    "    cat(paste(\"3rd Qu.: \", summary(x)[5], \"\\n\"))\n",
    "    cat(paste(\"  Max  : \", summary(x)[6], \"\\n\"))\n",
    "    cat(paste(\"St. Dev: \", sd(x), \"\\n\"))\n",
    "  }\n",
    "  \n",
    "  results <- list(minG = summary(x)[1], firstQG = summary(x)[2],\n",
    "       medianG = summary(x)[3], meanG = summary(x)[4], \n",
    "       thirdQG = summary(x)[5], maxG = summary(x)[6],\n",
    "       stdG = sd(x))\n",
    "  \n",
    "  return(results)\n",
    "}"
   ]
  },
  {
   "cell_type": "markdown",
   "metadata": {},
   "source": [
    "Starting the application, the next step is to create the list of primes as well as set the input parameters:"
   ]
  },
  {
   "cell_type": "code",
   "execution_count": 127,
   "metadata": {},
   "outputs": [],
   "source": [
    "primes <- sieve(20000) # length of primes should be >= max sequence length\n",
    "logOutput <- FALSE     # debug output\n",
    "numberOfPoints <- 4;   # number of different assignments of letters for Godel numbers\n",
    "replicate <- FALSE     # if we need to set specific seed numbers"
   ]
  },
  {
   "cell_type": "markdown",
   "metadata": {},
   "source": [
    "Create a list of seeds and print out the seeds\n",
    "Based on replicate value, replicate experiment by directly setting values"
   ]
  },
  {
   "cell_type": "code",
   "execution_count": 128,
   "metadata": {},
   "outputs": [
    {
     "name": "stdout",
     "output_type": "stream",
     "text": [
      "628 , 766 , 324 , 472 , "
     ]
    }
   ],
   "source": [
    "if (replicate == FALSE) {\n",
    "  seedValuesList <- sample(seq(from = 1, to = 1000, by = 1), size = numberOfPoints, replace = FALSE)\n",
    "  for (i in 1:numberOfPoints) {\n",
    "    cat(paste(seedValuesList[i], \", \"))\n",
    "  }\n",
    "} else {\n",
    "  seedValuesList <- c(606, 62, 414)\n",
    "  numberOfPoints <- length(seedValuesList)\n",
    "}"
   ]
  },
  {
   "cell_type": "markdown",
   "metadata": {},
   "source": [
    "Decribe the experiment."
   ]
  },
  {
   "cell_type": "code",
   "execution_count": 129,
   "metadata": {},
   "outputs": [],
   "source": [
    "type <- \"DNA\"\n",
    "seqLengthLimit <- 100\n",
    "numberOfArtificialSeqs <- 1000     # \"A\",\"C\",\"G\",\"T\"\n",
    "createRandomSequencesBasedOnDistr(numberOfArtificialSeqs, seqLengthLimit, c(0.30,0.10,0.10,0.50), \"data/artificialSeqs.fasta\")\n",
    "ompGene.list <- seqList(\"data/artificialSeqs.fasta\", type)\n",
    "ompGene.list.raw <- ompGene.list"
   ]
  },
  {
   "cell_type": "markdown",
   "metadata": {},
   "source": [
    "Create the matrix of rand value assignments for the particular type (AA, DNA)"
   ]
  },
  {
   "cell_type": "code",
   "execution_count": 130,
   "metadata": {},
   "outputs": [
    {
     "data": {
      "text/html": [
       "<table>\n",
       "<tbody>\n",
       "\t<tr><td>4</td><td>2</td><td>3</td><td>1</td></tr>\n",
       "\t<tr><td>4</td><td>3</td><td>2</td><td>1</td></tr>\n",
       "\t<tr><td>2</td><td>3</td><td>4</td><td>1</td></tr>\n",
       "\t<tr><td>2</td><td>1</td><td>4</td><td>3</td></tr>\n",
       "</tbody>\n",
       "</table>\n"
      ],
      "text/latex": [
       "\\begin{tabular}{llll}\n",
       "\t 4 & 2 & 3 & 1\\\\\n",
       "\t 4 & 3 & 2 & 1\\\\\n",
       "\t 2 & 3 & 4 & 1\\\\\n",
       "\t 2 & 1 & 4 & 3\\\\\n",
       "\\end{tabular}\n"
      ],
      "text/markdown": [
       "\n",
       "| 4 | 2 | 3 | 1 | \n",
       "| 4 | 3 | 2 | 1 | \n",
       "| 2 | 3 | 4 | 1 | \n",
       "| 2 | 1 | 4 | 3 | \n",
       "\n",
       "\n"
      ],
      "text/plain": [
       "     [,1] [,2] [,3] [,4]\n",
       "[1,] 4    2    3    1   \n",
       "[2,] 4    3    2    1   \n",
       "[3,] 2    3    4    1   \n",
       "[4,] 2    1    4    3   "
      ]
     },
     "metadata": {},
     "output_type": "display_data"
    }
   ],
   "source": [
    "randValues <- createRandomSequenceValues(seedValuesList, type)\n",
    "\n",
    "randValues"
   ]
  },
  {
   "cell_type": "markdown",
   "metadata": {},
   "source": [
    "However, we will also set the first association to the following:\n",
    "\n",
    "`A: 1`, `T: 0`, `G: 0` and `C: 0`"
   ]
  },
  {
   "cell_type": "code",
   "execution_count": 131,
   "metadata": {},
   "outputs": [
    {
     "data": {
      "text/html": [
       "<table>\n",
       "<tbody>\n",
       "\t<tr><td>1</td><td>0</td><td>0</td><td>0</td></tr>\n",
       "\t<tr><td>4</td><td>3</td><td>2</td><td>1</td></tr>\n",
       "\t<tr><td>2</td><td>3</td><td>4</td><td>1</td></tr>\n",
       "\t<tr><td>2</td><td>1</td><td>4</td><td>3</td></tr>\n",
       "</tbody>\n",
       "</table>\n"
      ],
      "text/latex": [
       "\\begin{tabular}{llll}\n",
       "\t 1 & 0 & 0 & 0\\\\\n",
       "\t 4 & 3 & 2 & 1\\\\\n",
       "\t 2 & 3 & 4 & 1\\\\\n",
       "\t 2 & 1 & 4 & 3\\\\\n",
       "\\end{tabular}\n"
      ],
      "text/markdown": [
       "\n",
       "| 1 | 0 | 0 | 0 | \n",
       "| 4 | 3 | 2 | 1 | \n",
       "| 2 | 3 | 4 | 1 | \n",
       "| 2 | 1 | 4 | 3 | \n",
       "\n",
       "\n"
      ],
      "text/plain": [
       "     [,1] [,2] [,3] [,4]\n",
       "[1,] 1    0    0    0   \n",
       "[2,] 4    3    2    1   \n",
       "[3,] 2    3    4    1   \n",
       "[4,] 2    1    4    3   "
      ]
     },
     "metadata": {},
     "output_type": "display_data"
    }
   ],
   "source": [
    "randValues[1,] <- c(1, 0, 0, 0)\n",
    "randValues"
   ]
  },
  {
   "cell_type": "markdown",
   "metadata": {},
   "source": [
    "Get a set of sequences of equal length"
   ]
  },
  {
   "cell_type": "code",
   "execution_count": 132,
   "metadata": {},
   "outputs": [],
   "source": [
    "ompGene.list <- ompGene.list.raw[which(getLength(ompGene.list.raw) >= 1)]\n",
    "sizeExp <- length(ompGene.list)\n",
    "selectedSequences <- c(1:sizeExp)"
   ]
  },
  {
   "cell_type": "markdown",
   "metadata": {},
   "source": [
    "Create the data frame that will contain godel numbers per iteration and the names"
   ]
  },
  {
   "cell_type": "code",
   "execution_count": 133,
   "metadata": {},
   "outputs": [],
   "source": [
    "godelValuePoints <- data.frame(matrix(0, ncol = numberOfPoints, nrow = sizeExp))\n",
    "namesList <- list()\n",
    "for (i in 1:numberOfPoints) {\n",
    "  namesList[i] <- paste('godel_log_pos', i, sep = '')\n",
    "}\n",
    "godelValuePoints <- setNames(godelValuePoints, namesList)\n",
    "godelValuePoints$seqNames <- unlist(attributes(ompGene.list)$name)"
   ]
  },
  {
   "cell_type": "markdown",
   "metadata": {},
   "source": [
    "We are now ready to calculate the Godel number per sequence, both using the exponential formula as well as the logarithmic formula.\n",
    "\n",
    "For reference purposes, the formulas are as shown below:\n",
    "\n",
    "$$g_{seq} = \\prod_{k=1}^n p_k^{a_k}$$\n",
    "\n",
    "$$G_{seq} = \\sum_{k=1}^n ({a_k} logp_k)$$\n",
    "\n",
    "where $a_k$ is the value corresponding to the base in sequence position $k$, and $p_k$ is the $k$th prime number.\n",
    "\n",
    "We will run the process of constructed the Godel numbers for three iterations, aiming to construct coordinates for each sequence in a 3-Dimensional space (the number 3 is arbitrary and can be changed in future tests).\n",
    "\n",
    "The code performing this calculation is the following:"
   ]
  },
  {
   "cell_type": "code",
   "execution_count": 134,
   "metadata": {},
   "outputs": [
    {
     "name": "stdout",
     "output_type": "stream",
     "text": [
      "Sequence Values: (1 , 0 , 0 , 0 , )\n",
      "Sequence Values: (4 , 3 , 2 , 1 , )\n",
      "Sequence Values: (2 , 3 , 4 , 1 , )\n",
      "Sequence Values: (2 , 1 , 4 , 3 , )\n"
     ]
    }
   ],
   "source": [
    "for (indexPos in 1:numberOfPoints) {\n",
    "  assignSets(randValues[indexPos,], type)\n",
    "  \n",
    "  godel.value.exp <- list()\n",
    "  godel.value.log <- list()\n",
    "  \n",
    "  for (indexSeq in selectedSequences) {\n",
    "    \n",
    "    godel.value.exp[[indexSeq]] <- 1\n",
    "    godel.value.log[[indexSeq]] <- 0\n",
    "    \n",
    "    if (logOutput) {\n",
    "      cat(\"Sequence length  \")\n",
    "      cat(indexSeq)\n",
    "      cat(\"  :\")\n",
    "      cat(length(ompGene.list[indexSeq][[1]]))\n",
    "      cat(\"\\n\")\n",
    "    }\n",
    "\n",
    "    for (i in 1:length(ompGene.list[indexSeq][[1]])) {\n",
    "      \n",
    "      prime <- as.numeric(primes[i])\n",
    "      alpha <- as.numeric(get(as.character(ompGene.list[[indexSeq]])[i]))\n",
    "      \n",
    "      godel.value.exp[[indexSeq]] <- godel.value.exp[[indexSeq]] * prime ** alpha\n",
    "      godel.value.log[[indexSeq]] <- godel.value.log[[indexSeq]] + alpha*log(prime)\n",
    "    }\n",
    "    \n",
    "  }\n",
    "  \n",
    "  godelValuePoints[, paste('godel_log_pos', indexPos, sep = '')] <- unlist(godel.value.log)\n",
    "}"
   ]
  },
  {
   "cell_type": "markdown",
   "metadata": {},
   "source": [
    "It is important to note that, given the average length of the sequences involved, the sum of exponentials reaches the limit of the calculable numbers, and therefore an Infinity indication is returned. The logarithmic produces much more manageable values.\n",
    "\n",
    "Finally, we can produce for each \"coordinate\" the summary of the base statistcs."
   ]
  },
  {
   "cell_type": "code",
   "execution_count": 135,
   "metadata": {},
   "outputs": [
    {
     "data": {
      "text/html": [
       "<table>\n",
       "<thead><tr><th scope=col>minG</th><th scope=col>firstQG</th><th scope=col>medianG</th><th scope=col>meanG</th><th scope=col>thirdQG</th><th scope=col>maxG</th><th scope=col>stdG</th></tr></thead>\n",
       "<tbody>\n",
       "\t<tr><td>  80.66328</td><td> 134.3649 </td><td> 149.8938 </td><td> 151.3236 </td><td> 167.2765 </td><td> 226.2958 </td><td>23.36750  </td></tr>\n",
       "\t<tr><td>1381.19058</td><td>1487.6721 </td><td>1515.5864 </td><td>1517.9391 </td><td>1550.0890 </td><td>1652.3952 </td><td>46.05827  </td></tr>\n",
       "\t<tr><td>1183.00721</td><td>1289.9582 </td><td>1315.4530 </td><td>1316.4968 </td><td>1342.2651 </td><td>1441.5684 </td><td>41.70938  </td></tr>\n",
       "\t<tr><td> 752.03134</td><td> 873.0669 </td><td> 908.2076 </td><td> 909.1779 </td><td> 944.2890 </td><td>1067.2720 </td><td>51.34322  </td></tr>\n",
       "</tbody>\n",
       "</table>\n"
      ],
      "text/latex": [
       "\\begin{tabular}{r|lllllll}\n",
       " minG & firstQG & medianG & meanG & thirdQG & maxG & stdG\\\\\n",
       "\\hline\n",
       "\t   80.66328 &  134.3649  &  149.8938  &  151.3236  &  167.2765  &  226.2958  & 23.36750  \\\\\n",
       "\t 1381.19058 & 1487.6721  & 1515.5864  & 1517.9391  & 1550.0890  & 1652.3952  & 46.05827  \\\\\n",
       "\t 1183.00721 & 1289.9582  & 1315.4530  & 1316.4968  & 1342.2651  & 1441.5684  & 41.70938  \\\\\n",
       "\t  752.03134 &  873.0669  &  908.2076  &  909.1779  &  944.2890  & 1067.2720  & 51.34322  \\\\\n",
       "\\end{tabular}\n"
      ],
      "text/markdown": [
       "\n",
       "minG | firstQG | medianG | meanG | thirdQG | maxG | stdG | \n",
       "|---|---|---|---|\n",
       "|   80.66328 |  134.3649  |  149.8938  |  151.3236  |  167.2765  |  226.2958  | 23.36750   | \n",
       "| 1381.19058 | 1487.6721  | 1515.5864  | 1517.9391  | 1550.0890  | 1652.3952  | 46.05827   | \n",
       "| 1183.00721 | 1289.9582  | 1315.4530  | 1316.4968  | 1342.2651  | 1441.5684  | 41.70938   | \n",
       "|  752.03134 |  873.0669  |  908.2076  |  909.1779  |  944.2890  | 1067.2720  | 51.34322   | \n",
       "\n",
       "\n"
      ],
      "text/plain": [
       "  minG       firstQG   medianG   meanG     thirdQG   maxG      stdG    \n",
       "1   80.66328  134.3649  149.8938  151.3236  167.2765  226.2958 23.36750\n",
       "2 1381.19058 1487.6721 1515.5864 1517.9391 1550.0890 1652.3952 46.05827\n",
       "3 1183.00721 1289.9582 1315.4530 1316.4968 1342.2651 1441.5684 41.70938\n",
       "4  752.03134  873.0669  908.2076  909.1779  944.2890 1067.2720 51.34322"
      ]
     },
     "metadata": {},
     "output_type": "display_data"
    }
   ],
   "source": [
    "statsPos <- data.frame(matrix(0, ncol = 7, nrow = numberOfPoints))\n",
    "statsPos <- setNames(statsPos, c(\"minG\", \"firstQG\", \"medianG\", \"meanG\", \"thirdQG\", \"maxG\", \"stdG\"))\n",
    "for (indexPos in 1:numberOfPoints) {\n",
    "  statsPos[indexPos, ] <- godelStatistics(godelValuePoints[, paste('godel_log_pos', indexPos, sep = '')])\n",
    "}\n",
    "\n",
    "statsPos"
   ]
  },
  {
   "cell_type": "markdown",
   "metadata": {},
   "source": [
    "For the first iteration, the corresponding histogram is the following:"
   ]
  },
  {
   "cell_type": "code",
   "execution_count": 136,
   "metadata": {},
   "outputs": [
    {
     "data": {
      "image/png": "[encoded data removed]",
      "text/plain": [
       "Plot with title \"Histogram of godelValuePoints[, 1]\""
      ]
     },
     "metadata": {},
     "output_type": "display_data"
    }
   ],
   "source": [
    "hist(godelValuePoints[, 1])"
   ]
  },
  {
   "cell_type": "markdown",
   "metadata": {},
   "source": [
    "We can also investigate the relationship of the histogram with a normal distribution, using a fitting curve:"
   ]
  },
  {
   "cell_type": "code",
   "execution_count": 137,
   "metadata": {},
   "outputs": [
    {
     "data": {
      "text/html": [
       "<dl class=dl-horizontal>\n",
       "\t<dt>mean</dt>\n",
       "\t\t<dd>151.323585304068</dd>\n",
       "\t<dt>sd</dt>\n",
       "\t\t<dd>23.3558136320176</dd>\n",
       "</dl>\n"
      ],
      "text/latex": [
       "\\begin{description*}\n",
       "\\item[mean] 151.323585304068\n",
       "\\item[sd] 23.3558136320176\n",
       "\\end{description*}\n"
      ],
      "text/markdown": [
       "mean\n",
       ":   151.323585304068sd\n",
       ":   23.3558136320176\n",
       "\n"
      ],
      "text/plain": [
       "     mean        sd \n",
       "151.32359  23.35581 "
      ]
     },
     "metadata": {},
     "output_type": "display_data"
    },
    {
     "data": {
      "image/png": "[encoded data removed]",
      "text/plain": [
       "Plot with title \"Histogram of godelValuePoints[, 1]\""
      ]
     },
     "metadata": {},
     "output_type": "display_data"
    }
   ],
   "source": [
    "fit <- fitdistr(godelValuePoints[, 1], \"normal\")\n",
    "para <- fit$estimate\n",
    "hist(godelValuePoints[, 1], prob = TRUE)\n",
    "curve(dnorm(x, para[1], para[2]), col = 2, add = TRUE)\n",
    "para"
   ]
  },
  {
   "cell_type": "markdown",
   "metadata": {},
   "source": [
    "Finally, we can compare the theoretical mean and std with the ones infered above. For reference, the corresponding base values are the following:\n",
    "\n",
    "\n",
    "$$P_1 = \\sum_{k=1}^n log(p_k)$$\n",
    "\n",
    "$$P_2 = \\sum_{k=1}^n (log(p_k))^2$$\n",
    "\n",
    "where $p_k$ is the $k$th prime number.\n",
    "\n",
    "We can distinguish the following two cases:\n",
    "\n",
    "1. Each base has equal probability of appearance, equal to 0.25\n",
    "\n",
    "$$mean_{theory-all-0.25} = P1 * 2.5$$\n",
    "\n",
    "$$std_{theory-all-0.25} = \\sqrt{P2 * 1.25}$$\n",
    "\n",
    "2. A has a probability of 0.3 (and we ignore the probabilities of the other bases)\n",
    "\n",
    "$$mean_{theory-A-0.3} = P1 * 0.3$$\n",
    "\n",
    "$$std_{theory-A-0.3} = \\sqrt{P2 * 0.3 * (1-0.3)}$$"
   ]
  },
  {
   "cell_type": "code",
   "execution_count": 138,
   "metadata": {},
   "outputs": [],
   "source": [
    "P1 <- sum(log(primes[1:seqLengthLimit]))\n",
    "P2 <- sum((log(primes[1:seqLengthLimit]))^2)\n",
    "\n",
    "theoreticalMeanEqual <- P1*2.5\n",
    "theoreticalStdEqual <- sqrt(P2*1.25)\n",
    "\n",
    "theoreticalMeanA03 <- P1*0.3\n",
    "theoreticalStdA03 <- sqrt(P2*0.3*(1-0.3))"
   ]
  },
  {
   "cell_type": "markdown",
   "metadata": {},
   "source": [
    "For the first case, the theoretical values are (the experimental ones are shown below):"
   ]
  },
  {
   "cell_type": "code",
   "execution_count": 139,
   "metadata": {},
   "outputs": [
    {
     "data": {
      "text/html": [
       "1264.54058281502"
      ],
      "text/latex": [
       "1264.54058281502"
      ],
      "text/markdown": [
       "1264.54058281502"
      ],
      "text/plain": [
       "[1] 1264.541"
      ]
     },
     "metadata": {},
     "output_type": "display_data"
    },
    {
     "data": {
      "text/html": [
       "58.1079322475231"
      ],
      "text/latex": [
       "58.1079322475231"
      ],
      "text/markdown": [
       "58.1079322475231"
      ],
      "text/plain": [
       "[1] 58.10793"
      ]
     },
     "metadata": {},
     "output_type": "display_data"
    },
    {
     "data": {
      "text/html": [
       "<dl class=dl-horizontal>\n",
       "\t<dt>mean</dt>\n",
       "\t\t<dd>151.323585304068</dd>\n",
       "\t<dt>sd</dt>\n",
       "\t\t<dd>23.3558136320176</dd>\n",
       "</dl>\n"
      ],
      "text/latex": [
       "\\begin{description*}\n",
       "\\item[mean] 151.323585304068\n",
       "\\item[sd] 23.3558136320176\n",
       "\\end{description*}\n"
      ],
      "text/markdown": [
       "mean\n",
       ":   151.323585304068sd\n",
       ":   23.3558136320176\n",
       "\n"
      ],
      "text/plain": [
       "     mean        sd \n",
       "151.32359  23.35581 "
      ]
     },
     "metadata": {},
     "output_type": "display_data"
    }
   ],
   "source": [
    "theoreticalMeanEqual\n",
    "theoreticalStdEqual\n",
    "para"
   ]
  },
  {
   "cell_type": "markdown",
   "metadata": {},
   "source": [
    "For the second case, the theoretical values are (the experimental ones are shown below):"
   ]
  },
  {
   "cell_type": "code",
   "execution_count": 140,
   "metadata": {},
   "outputs": [
    {
     "data": {
      "text/html": [
       "151.744869937803"
      ],
      "text/latex": [
       "151.744869937803"
      ],
      "text/markdown": [
       "151.744869937803"
      ],
      "text/plain": [
       "[1] 151.7449"
      ]
     },
     "metadata": {},
     "output_type": "display_data"
    },
    {
     "data": {
      "text/html": [
       "23.8171648340834"
      ],
      "text/latex": [
       "23.8171648340834"
      ],
      "text/markdown": [
       "23.8171648340834"
      ],
      "text/plain": [
       "[1] 23.81716"
      ]
     },
     "metadata": {},
     "output_type": "display_data"
    },
    {
     "data": {
      "text/html": [
       "<dl class=dl-horizontal>\n",
       "\t<dt>mean</dt>\n",
       "\t\t<dd>151.323585304068</dd>\n",
       "\t<dt>sd</dt>\n",
       "\t\t<dd>23.3558136320176</dd>\n",
       "</dl>\n"
      ],
      "text/latex": [
       "\\begin{description*}\n",
       "\\item[mean] 151.323585304068\n",
       "\\item[sd] 23.3558136320176\n",
       "\\end{description*}\n"
      ],
      "text/markdown": [
       "mean\n",
       ":   151.323585304068sd\n",
       ":   23.3558136320176\n",
       "\n"
      ],
      "text/plain": [
       "     mean        sd \n",
       "151.32359  23.35581 "
      ]
     },
     "metadata": {},
     "output_type": "display_data"
    }
   ],
   "source": [
    "theoreticalMeanA03\n",
    "theoreticalStdA03\n",
    "para"
   ]
  }
 ],
 "metadata": {
  "kernelspec": {
   "display_name": "R",
   "language": "R",
   "name": "ir"
  },
  "language_info": {
   "codemirror_mode": "r",
   "file_extension": ".r",
   "mimetype": "text/x-r-source",
   "name": "R",
   "pygments_lexer": "r",
   "version": "3.4.2"
  }
 },
 "nbformat": 4,
 "nbformat_minor": 2
}
