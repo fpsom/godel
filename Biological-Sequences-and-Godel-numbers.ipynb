{
 "cells": [
  {
   "cell_type": "code",
   "execution_count": 1,
   "metadata": {},
   "outputs": [],
   "source": [
    "library(seqinr)\n",
    "library(MASS)"
   ]
  },
  {
   "cell_type": "markdown",
   "metadata": {},
   "source": [
    "First of all, in order to produce the list of prime numbers required, we will use a function for the [Sieve of Eratosthenes](https://en.wikipedia.org/wiki/Sieve_of_Eratosthenes)."
   ]
  },
  {
   "cell_type": "code",
   "execution_count": 2,
   "metadata": {},
   "outputs": [],
   "source": [
    "sieve <- function(n) {\n",
    "  n <- as.integer(n)\n",
    "  if(n > 1e6) stop(\"n too large\")\n",
    "  primes <- rep(TRUE, n)\n",
    "  primes[1] <- FALSE\n",
    "  last.prime <- 2L\n",
    "  for(i in last.prime:floor(sqrt(n)))\n",
    "  {\n",
    "    primes[seq.int(2L*last.prime, n, last.prime)] <- FALSE\n",
    "    last.prime <- last.prime + min(which(primes[(last.prime+1):n]))\n",
    "  }\n",
    "  which(primes)\n",
    "}"
   ]
  },
  {
   "cell_type": "markdown",
   "metadata": {},
   "source": [
    "The next function reads a FASTA formated text file, either for DNA or AA sequences:"
   ]
  },
  {
   "cell_type": "code",
   "execution_count": 3,
   "metadata": {},
   "outputs": [],
   "source": [
    "seqList <- function(x, type) {\n",
    "  if (type == \"DNA\") {\n",
    "    as.list(read.fasta(x,\n",
    "                       as.string = FALSE,\n",
    "                       seqtype=\"DNA\",\n",
    "                       seqonly = FALSE,\n",
    "                       strip.desc = TRUE))\n",
    "  }\n",
    "  else {\n",
    "    if (type == \"AA\") {\n",
    "      as.list(read.fasta(x,\n",
    "                         as.string = FALSE,\n",
    "                         seqtype=\"AA\",\n",
    "                         seqonly = FALSE,\n",
    "                         strip.desc = TRUE))\n",
    "    }\n",
    "    else {\n",
    "      NULL\n",
    "    }\n",
    "  }\n",
    "}"
   ]
  },
  {
   "cell_type": "markdown",
   "metadata": {},
   "source": [
    "This function produces `count` nucleotide sequences of length `length`, with the probability of appearance for each nucleotide adhering to the parameter `prob` (default is equal distribution), and stores them in fasta format in the file `fileNameRandSeqs`."
   ]
  },
  {
   "cell_type": "code",
   "execution_count": 4,
   "metadata": {},
   "outputs": [],
   "source": [
    "createRandomSequencesBasedOnDistr <- function(count, length, prob=c(0.25,0.25,0.25,0.25), fileNameRandSeqs) {\n",
    "  \n",
    "  sink(fileNameRandSeqs)\n",
    "  for (i in 1:count) {\n",
    "    cat(\">Seq\", i, \"\\n\", sep = \"\")\n",
    "    seqX <- sample(c(\"A\",\"C\",\"G\",\"T\"), length, rep=TRUE, prob)\n",
    "    cat(paste(seqX,collapse=\"\"), \"\\n\", sep = \"\")\n",
    "  }\n",
    "  sink()\n",
    "}"
   ]
  },
  {
   "cell_type": "markdown",
   "metadata": {},
   "source": [
    "This function creates a random permutation of values (1 to 4, or 1 to 23 based on the `type` value), for as many times as the number of seeds provided in the `seedList`."
   ]
  },
  {
   "cell_type": "code",
   "execution_count": 5,
   "metadata": {},
   "outputs": [],
   "source": [
    "createRandomSequenceValues <- function(seedList, type) {\n",
    "  \n",
    "  if ( type == \"DNA\" ) {\n",
    "    results <- matrix(, nrow = length(seedList), ncol = 4)\n",
    "  }\n",
    "  else if ( type == \"AA\" ) {\n",
    "    results <- matrix(, nrow = length(seedList), ncol = 23)\n",
    "  }\n",
    "  \n",
    "  for (i in 1:length(seedList)) {\n",
    "    if ( type == \"DNA\" ) {\n",
    "      results[i,] <- sample(seq(from = 1, to = 4, by = 1), size = 4, replace = FALSE)\n",
    "    }\n",
    "    else if ( type == \"AA\" ) {\n",
    "      results[i,] <- sample(seq(from = 1, to = 23, by = 1), size = 23, replace = FALSE)\n",
    "    }\n",
    "  }\n",
    "  return(results)\n",
    "}"
   ]
  },
  {
   "cell_type": "markdown",
   "metadata": {},
   "source": [
    "The next function assigns random values to each of the letters (either the four bases in DNA or the 22+1 aminoacids). In each case, the exact random sequence is printed out, in order to retrieve the exact allocation if necessary:"
   ]
  },
  {
   "cell_type": "code",
   "execution_count": 6,
   "metadata": {},
   "outputs": [],
   "source": [
    "assignSets <- function(randSequenceValues, type) {\n",
    "\n",
    "  if (type == \"DNA\") {\n",
    "    #DNA Set\n",
    "    cat(\"Sequence Values: (\")\n",
    "    for (i in 1:4) {\n",
    "      cat(paste(randSequenceValues[i], \", \"))\n",
    "    }\n",
    "    cat(\")\\n\")\n",
    "    assign(\"a\", randSequenceValues[1], envir = .GlobalEnv)\n",
    "    assign(\"t\", randSequenceValues[2], envir = .GlobalEnv)\n",
    "    assign(\"g\", randSequenceValues[3], envir = .GlobalEnv)\n",
    "    assign(\"c\", randSequenceValues[4], envir = .GlobalEnv)\n",
    "  }\n",
    "  else if ( type == \"AA\") {\n",
    "    # AA Set 1\n",
    "    cat(\"Sequence Values: (\")\n",
    "    for (i in 1:23) {\n",
    "      cat(paste(randSequenceValues[i], \", \"))\n",
    "    }\n",
    "    cat(\")\\n\")\n",
    "    assign(\"A\", randSequenceValues[1], envir = .GlobalEnv) # alanine, ala\n",
    "    assign(\"R\", randSequenceValues[2], envir = .GlobalEnv) # arginine, arg\n",
    "    assign(\"N\", randSequenceValues[3], envir = .GlobalEnv) # asparagine, asn\n",
    "    assign(\"D\", randSequenceValues[4], envir = .GlobalEnv) # aspartic acid, asp\n",
    "    assign(\"B\", randSequenceValues[5], envir = .GlobalEnv) # sparagine or aspartic acid, asx\n",
    "    assign(\"C\", randSequenceValues[6], envir = .GlobalEnv) # cysteine, cys\n",
    "    assign(\"E\", randSequenceValues[7], envir = .GlobalEnv) # glutamic acid, glu\n",
    "    assign(\"Q\", randSequenceValues[8], envir = .GlobalEnv) # glutamine, gln\n",
    "    assign(\"Z\", randSequenceValues[9], envir = .GlobalEnv) # glutamine or glutamic acid, glx\n",
    "    assign(\"G\", randSequenceValues[10], envir = .GlobalEnv) # glycine, gly\n",
    "    assign(\"H\", randSequenceValues[11], envir = .GlobalEnv) # histidine, his\n",
    "    assign(\"I\", randSequenceValues[12], envir = .GlobalEnv) # isoleucine, ile\n",
    "    assign(\"L\", randSequenceValues[13], envir = .GlobalEnv) # leucine, leu\n",
    "    assign(\"K\", randSequenceValues[14], envir = .GlobalEnv) # lysine, lys\n",
    "    assign(\"M\", randSequenceValues[15], envir = .GlobalEnv) # methionine, met\n",
    "    assign(\"F\", randSequenceValues[16], envir = .GlobalEnv) # phenylalanine, phe\n",
    "    assign(\"P\", randSequenceValues[17], envir = .GlobalEnv) # proline, pro\n",
    "    assign(\"S\", randSequenceValues[18], envir = .GlobalEnv) # serine, ser\n",
    "    assign(\"T\", randSequenceValues[19], envir = .GlobalEnv) # threonine, thr\n",
    "    assign(\"W\", randSequenceValues[20], envir = .GlobalEnv) # tryptophan, trp\n",
    "    assign(\"Y\", randSequenceValues[21], envir = .GlobalEnv) # tyrosine, tyr\n",
    "    assign(\"V\", randSequenceValues[22], envir = .GlobalEnv) # valine, val\n",
    "    assign(\"X\", randSequenceValues[23], envir = .GlobalEnv) # undetermined\n",
    "  }\n",
    "}"
   ]
  },
  {
   "cell_type": "markdown",
   "metadata": {},
   "source": [
    "The next function is purely for support, and prints out the statistical summaries of the input variables:"
   ]
  },
  {
   "cell_type": "code",
   "execution_count": 7,
   "metadata": {},
   "outputs": [],
   "source": [
    "godelStatistics <- function(x) {\n",
    "    \n",
    "  if (logOutput) {\n",
    "    cat(paste(\"  Min  : \", summary(x)[1], \"\\n\"))\n",
    "    cat(paste(\"1st Qu.: \", summary(x)[2], \"\\n\"))\n",
    "    cat(paste(\"Median : \", summary(x)[3], \"\\n\"))\n",
    "    cat(paste(\" Mean  : \", summary(x)[4], \"\\n\"))\n",
    "    cat(paste(\"3rd Qu.: \", summary(x)[5], \"\\n\"))\n",
    "    cat(paste(\"  Max  : \", summary(x)[6], \"\\n\"))\n",
    "    cat(paste(\"St. Dev: \", sd(x), \"\\n\"))\n",
    "  }\n",
    "  \n",
    "  results <- list(minG = summary(x)[1], firstQG = summary(x)[2],\n",
    "       medianG = summary(x)[3], meanG = summary(x)[4], \n",
    "       thirdQG = summary(x)[5], maxG = summary(x)[6],\n",
    "       stdG = sd(x))\n",
    "  \n",
    "  return(results)\n",
    "}"
   ]
  },
  {
   "cell_type": "markdown",
   "metadata": {},
   "source": [
    "Starting the application, the next step is to create the list of primes as well as set the input parameters:"
   ]
  },
  {
   "cell_type": "code",
   "execution_count": 8,
   "metadata": {},
   "outputs": [],
   "source": [
    "primes <- sieve(20000) # length of primes should be >= max sequence length\n",
    "logOutput <- FALSE     # debug output\n",
    "numberOfPoints <- 4;   # number of different assignments of letters for Godel numbers\n",
    "replicate <- FALSE     # if we need to set specific seed numbers"
   ]
  },
  {
   "cell_type": "markdown",
   "metadata": {},
   "source": [
    "Create a list of seeds and print out the seeds\n",
    "Based on replicate value, replicate experiment by directly setting values"
   ]
  },
  {
   "cell_type": "code",
   "execution_count": 9,
   "metadata": {},
   "outputs": [
    {
     "name": "stdout",
     "output_type": "stream",
     "text": [
      "99 , 751 , 633 , 96 , "
     ]
    }
   ],
   "source": [
    "if (replicate == FALSE) {\n",
    "  seedValuesList <- sample(seq(from = 1, to = 1000, by = 1), size = numberOfPoints, replace = FALSE)\n",
    "  for (i in 1:numberOfPoints) {\n",
    "    cat(paste(seedValuesList[i], \", \"))\n",
    "  }\n",
    "} else {\n",
    "  seedValuesList <- c(606, 62, 414)\n",
    "  numberOfPoints <- length(seedValuesList)\n",
    "}"
   ]
  },
  {
   "cell_type": "markdown",
   "metadata": {},
   "source": [
    "Decribe the experiment."
   ]
  },
  {
   "cell_type": "code",
   "execution_count": 10,
   "metadata": {},
   "outputs": [],
   "source": [
    "type <- \"DNA\"\n",
    "# The following values should execute within 6 minutes with a good enough resolution\n",
    "seqLengthLimit <- 361\n",
    "numberOfArtificialSeqs <- 821     # \"A\",\"C\",\"G\",\"T\"\n",
    "# amend the following line for your particular distribution on nucloetide presence.\n",
    "createRandomSequencesBasedOnDistr(numberOfArtificialSeqs, seqLengthLimit, c(0.25,0.25,0.25,0.25), \"data/artificialSeqs.fasta\")\n",
    "ompGene.list <- seqList(\"data/artificialSeqs.fasta\", type)\n",
    "# ompGene.list <- seqList(\"data/realSeqs.fasta\", type)\n",
    "ompGene.list.raw <- ompGene.list"
   ]
  },
  {
   "cell_type": "markdown",
   "metadata": {},
   "source": [
    "Create the matrix of rand value assignments for the particular type (AA, DNA)"
   ]
  },
  {
   "cell_type": "code",
   "execution_count": 11,
   "metadata": {},
   "outputs": [
    {
     "data": {
      "text/html": [
       "<table>\n",
       "<caption>A matrix: 4 x 4 of type dbl</caption>\n",
       "<tbody>\n",
       "\t<tr><td>2</td><td>1</td><td>3</td><td>4</td></tr>\n",
       "\t<tr><td>2</td><td>3</td><td>4</td><td>1</td></tr>\n",
       "\t<tr><td>3</td><td>1</td><td>2</td><td>4</td></tr>\n",
       "\t<tr><td>4</td><td>1</td><td>2</td><td>3</td></tr>\n",
       "</tbody>\n",
       "</table>\n"
      ],
      "text/latex": [
       "A matrix: 4 x 4 of type dbl\n",
       "\\begin{tabular}{llll}\n",
       "\t 2 & 1 & 3 & 4\\\\\n",
       "\t 2 & 3 & 4 & 1\\\\\n",
       "\t 3 & 1 & 2 & 4\\\\\n",
       "\t 4 & 1 & 2 & 3\\\\\n",
       "\\end{tabular}\n"
      ],
      "text/markdown": [
       "\n",
       "A matrix: 4 x 4 of type dbl\n",
       "\n",
       "| 2 | 1 | 3 | 4 |\n",
       "| 2 | 3 | 4 | 1 |\n",
       "| 3 | 1 | 2 | 4 |\n",
       "| 4 | 1 | 2 | 3 |\n",
       "\n"
      ],
      "text/plain": [
       "     [,1] [,2] [,3] [,4]\n",
       "[1,] 2    1    3    4   \n",
       "[2,] 2    3    4    1   \n",
       "[3,] 3    1    2    4   \n",
       "[4,] 4    1    2    3   "
      ]
     },
     "metadata": {},
     "output_type": "display_data"
    }
   ],
   "source": [
    "randValues <- createRandomSequenceValues(seedValuesList, type)\n",
    "\n",
    "randValues"
   ]
  },
  {
   "cell_type": "markdown",
   "metadata": {},
   "source": [
    "However, we will also set the first association to the following:\n",
    "\n",
    "`A: 1`, `T: 0`, `G: 0` and `C: 0`"
   ]
  },
  {
   "cell_type": "code",
   "execution_count": 12,
   "metadata": {},
   "outputs": [
    {
     "data": {
      "text/html": [
       "<table>\n",
       "<caption>A matrix: 4 x 4 of type dbl</caption>\n",
       "<tbody>\n",
       "\t<tr><td>2</td><td>1</td><td>3</td><td>4</td></tr>\n",
       "\t<tr><td>2</td><td>3</td><td>4</td><td>1</td></tr>\n",
       "\t<tr><td>3</td><td>1</td><td>2</td><td>4</td></tr>\n",
       "\t<tr><td>4</td><td>1</td><td>2</td><td>3</td></tr>\n",
       "</tbody>\n",
       "</table>\n"
      ],
      "text/latex": [
       "A matrix: 4 x 4 of type dbl\n",
       "\\begin{tabular}{llll}\n",
       "\t 2 & 1 & 3 & 4\\\\\n",
       "\t 2 & 3 & 4 & 1\\\\\n",
       "\t 3 & 1 & 2 & 4\\\\\n",
       "\t 4 & 1 & 2 & 3\\\\\n",
       "\\end{tabular}\n"
      ],
      "text/markdown": [
       "\n",
       "A matrix: 4 x 4 of type dbl\n",
       "\n",
       "| 2 | 1 | 3 | 4 |\n",
       "| 2 | 3 | 4 | 1 |\n",
       "| 3 | 1 | 2 | 4 |\n",
       "| 4 | 1 | 2 | 3 |\n",
       "\n"
      ],
      "text/plain": [
       "     [,1] [,2] [,3] [,4]\n",
       "[1,] 2    1    3    4   \n",
       "[2,] 2    3    4    1   \n",
       "[3,] 3    1    2    4   \n",
       "[4,] 4    1    2    3   "
      ]
     },
     "metadata": {},
     "output_type": "display_data"
    }
   ],
   "source": [
    "# Do not run this cell if you want to check for all nucleotides and not just for A\n",
    "# randValues[1,] <- c(3, 2, 1, 4)\n",
    "randValues"
   ]
  },
  {
   "cell_type": "markdown",
   "metadata": {},
   "source": [
    "Get a set of sequences of equal length"
   ]
  },
  {
   "cell_type": "code",
   "execution_count": 13,
   "metadata": {},
   "outputs": [],
   "source": [
    "ompGene.list <- ompGene.list.raw[which(getLength(ompGene.list.raw) >= 1)]\n",
    "sizeExp <- length(ompGene.list)\n",
    "selectedSequences <- c(1:sizeExp)"
   ]
  },
  {
   "cell_type": "markdown",
   "metadata": {},
   "source": [
    "Create the data frame that will contain godel numbers per iteration and the names"
   ]
  },
  {
   "cell_type": "code",
   "execution_count": 14,
   "metadata": {},
   "outputs": [],
   "source": [
    "godelValuePoints <- data.frame(matrix(0, ncol = numberOfPoints, nrow = sizeExp))\n",
    "namesList <- list()\n",
    "for (i in 1:numberOfPoints) {\n",
    "  namesList[i] <- paste('godel_log_pos', i, sep = '')\n",
    "}\n",
    "godelValuePoints <- setNames(godelValuePoints, namesList)\n",
    "godelValuePoints$seqNames <- unlist(attributes(ompGene.list)$name)"
   ]
  },
  {
   "cell_type": "markdown",
   "metadata": {},
   "source": [
    "We are now ready to calculate the Godel number per sequence, both using the exponential formula as well as the logarithmic formula.\n",
    "\n",
    "For reference purposes, the formulas are as shown below:\n",
    "\n",
    "$$g_{seq} = \\prod_{k=1}^n p_k^{a_k}$$\n",
    "\n",
    "$$G_{seq} = \\sum_{k=1}^n ({a_k} logp_k)$$\n",
    "\n",
    "where $a_k$ is the value corresponding to the base in sequence position $k$, and $p_k$ is the $k$th prime number.\n",
    "\n",
    "We will run the process of constructed the Godel numbers for three iterations, aiming to construct coordinates for each sequence in a 3-Dimensional space (the number 3 is arbitrary and can be changed in future tests).\n",
    "\n",
    "The code performing this calculation is the following:"
   ]
  },
  {
   "cell_type": "code",
   "execution_count": 15,
   "metadata": {},
   "outputs": [
    {
     "name": "stdout",
     "output_type": "stream",
     "text": [
      "Sequence Values: (2 , 1 , 3 , 4 , )\n",
      "Sequence Values: (2 , 3 , 4 , 1 , )\n",
      "Sequence Values: (3 , 1 , 2 , 4 , )\n",
      "Sequence Values: (4 , 1 , 2 , 3 , )\n"
     ]
    }
   ],
   "source": [
    "for (indexPos in 1:numberOfPoints) {\n",
    "  assignSets(randValues[indexPos,], type)\n",
    "  \n",
    "  godel.value.exp <- list()\n",
    "  godel.value.log <- list()\n",
    "  \n",
    "  for (indexSeq in selectedSequences) {\n",
    "    \n",
    "    godel.value.exp[[indexSeq]] <- 1\n",
    "    godel.value.log[[indexSeq]] <- 0\n",
    "    \n",
    "    if (logOutput) {\n",
    "      cat(\"Sequence length  \")\n",
    "      cat(indexSeq)\n",
    "      cat(\"  :\")\n",
    "      cat(length(ompGene.list[indexSeq][[1]]))\n",
    "      cat(\"\\n\")\n",
    "    }\n",
    "\n",
    "    for (i in 1:length(ompGene.list[indexSeq][[1]])) {\n",
    "      \n",
    "      prime <- as.numeric(primes[i])\n",
    "      alpha <- as.numeric(get(as.character(ompGene.list[[indexSeq]])[i]))\n",
    "      \n",
    "      godel.value.exp[[indexSeq]] <- godel.value.exp[[indexSeq]] * prime ** alpha\n",
    "      godel.value.log[[indexSeq]] <- godel.value.log[[indexSeq]] + alpha*log(prime)\n",
    "    }\n",
    "    \n",
    "  }\n",
    "  \n",
    "  godelValuePoints[, paste('godel_log_pos', indexPos, sep = '')] <- unlist(godel.value.log)\n",
    "}"
   ]
  },
  {
   "cell_type": "markdown",
   "metadata": {},
   "source": [
    "It is important to note that, given the average length of the sequences involved, the sum of exponentials reaches the limit of the calculable numbers, and therefore an Infinity indication is returned. The logarithmic produces much more manageable values.\n",
    "\n",
    "Finally, we can produce for each \"coordinate\" the summary of the base statistcs."
   ]
  },
  {
   "cell_type": "code",
   "execution_count": 16,
   "metadata": {},
   "outputs": [
    {
     "data": {
      "text/html": [
       "<table>\n",
       "<caption>A data.frame: 4 x 7</caption>\n",
       "<thead>\n",
       "\t<tr><th scope=col>minG</th><th scope=col>firstQG</th><th scope=col>medianG</th><th scope=col>meanG</th><th scope=col>thirdQG</th><th scope=col>maxG</th><th scope=col>stdG</th></tr>\n",
       "\t<tr><th scope=col>&lt;dbl&gt;</th><th scope=col>&lt;dbl&gt;</th><th scope=col>&lt;dbl&gt;</th><th scope=col>&lt;dbl&gt;</th><th scope=col>&lt;dbl&gt;</th><th scope=col>&lt;dbl&gt;</th><th scope=col>&lt;dbl&gt;</th></tr>\n",
       "</thead>\n",
       "<tbody>\n",
       "\t<tr><td>5479.896</td><td>5862.471</td><td>5970.505</td><td>5967.165</td><td>6076.949</td><td>6390.650</td><td>148.5326</td></tr>\n",
       "\t<tr><td>5507.690</td><td>5861.946</td><td>5961.661</td><td>5964.652</td><td>6061.664</td><td>6451.360</td><td>147.5294</td></tr>\n",
       "\t<tr><td>5525.465</td><td>5873.785</td><td>5979.970</td><td>5969.556</td><td>6071.338</td><td>6408.127</td><td>149.0702</td></tr>\n",
       "\t<tr><td>5475.902</td><td>5875.264</td><td>5979.420</td><td>5971.403</td><td>6069.640</td><td>6427.185</td><td>143.7330</td></tr>\n",
       "</tbody>\n",
       "</table>\n"
      ],
      "text/latex": [
       "A data.frame: 4 x 7\n",
       "\\begin{tabular}{r|lllllll}\n",
       " minG & firstQG & medianG & meanG & thirdQG & maxG & stdG\\\\\n",
       " <dbl> & <dbl> & <dbl> & <dbl> & <dbl> & <dbl> & <dbl>\\\\\n",
       "\\hline\n",
       "\t 5479.896 & 5862.471 & 5970.505 & 5967.165 & 6076.949 & 6390.650 & 148.5326\\\\\n",
       "\t 5507.690 & 5861.946 & 5961.661 & 5964.652 & 6061.664 & 6451.360 & 147.5294\\\\\n",
       "\t 5525.465 & 5873.785 & 5979.970 & 5969.556 & 6071.338 & 6408.127 & 149.0702\\\\\n",
       "\t 5475.902 & 5875.264 & 5979.420 & 5971.403 & 6069.640 & 6427.185 & 143.7330\\\\\n",
       "\\end{tabular}\n"
      ],
      "text/markdown": [
       "\n",
       "A data.frame: 4 x 7\n",
       "\n",
       "| minG &lt;dbl&gt; | firstQG &lt;dbl&gt; | medianG &lt;dbl&gt; | meanG &lt;dbl&gt; | thirdQG &lt;dbl&gt; | maxG &lt;dbl&gt; | stdG &lt;dbl&gt; |\n",
       "|---|---|---|---|---|---|---|\n",
       "| 5479.896 | 5862.471 | 5970.505 | 5967.165 | 6076.949 | 6390.650 | 148.5326 |\n",
       "| 5507.690 | 5861.946 | 5961.661 | 5964.652 | 6061.664 | 6451.360 | 147.5294 |\n",
       "| 5525.465 | 5873.785 | 5979.970 | 5969.556 | 6071.338 | 6408.127 | 149.0702 |\n",
       "| 5475.902 | 5875.264 | 5979.420 | 5971.403 | 6069.640 | 6427.185 | 143.7330 |\n",
       "\n"
      ],
      "text/plain": [
       "  minG     firstQG  medianG  meanG    thirdQG  maxG     stdG    \n",
       "1 5479.896 5862.471 5970.505 5967.165 6076.949 6390.650 148.5326\n",
       "2 5507.690 5861.946 5961.661 5964.652 6061.664 6451.360 147.5294\n",
       "3 5525.465 5873.785 5979.970 5969.556 6071.338 6408.127 149.0702\n",
       "4 5475.902 5875.264 5979.420 5971.403 6069.640 6427.185 143.7330"
      ]
     },
     "metadata": {},
     "output_type": "display_data"
    }
   ],
   "source": [
    "statsPos <- data.frame(matrix(0, ncol = 7, nrow = numberOfPoints))\n",
    "statsPos <- setNames(statsPos, c(\"minG\", \"firstQG\", \"medianG\", \"meanG\", \"thirdQG\", \"maxG\", \"stdG\"))\n",
    "for (indexPos in 1:numberOfPoints) {\n",
    "  statsPos[indexPos, ] <- godelStatistics(godelValuePoints[, paste('godel_log_pos', indexPos, sep = '')])\n",
    "}\n",
    "\n",
    "statsPos"
   ]
  },
  {
   "cell_type": "markdown",
   "metadata": {},
   "source": [
    "For the first iteration, the corresponding histogram is the following:"
   ]
  },
  {
   "cell_type": "code",
   "execution_count": 17,
   "metadata": {},
   "outputs": [
    {
     "data": {
      "image/png": "[encoded data removed]",
      "text/plain": [
       "Plot with title \"Histogram of godelValuePoints[, 1]\""
      ]
     },
     "metadata": {},
     "output_type": "display_data"
    }
   ],
   "source": [
    "hist(godelValuePoints[, 1])"
   ]
  },
  {
   "cell_type": "markdown",
   "metadata": {},
   "source": [
    "We can also investigate the relationship of the histogram with a normal distribution, using a fitting curve:"
   ]
  },
  {
   "cell_type": "code",
   "execution_count": 18,
   "metadata": {},
   "outputs": [
    {
     "data": {
      "text/html": [
       "<dl class=dl-horizontal>\n",
       "\t<dt>mean</dt>\n",
       "\t\t<dd>5967.1647889962</dd>\n",
       "\t<dt>sd</dt>\n",
       "\t\t<dd>148.442093263115</dd>\n",
       "</dl>\n"
      ],
      "text/latex": [
       "\\begin{description*}\n",
       "\\item[mean] 5967.1647889962\n",
       "\\item[sd] 148.442093263115\n",
       "\\end{description*}\n"
      ],
      "text/markdown": [
       "mean\n",
       ":   5967.1647889962sd\n",
       ":   148.442093263115\n",
       "\n"
      ],
      "text/plain": [
       "     mean        sd \n",
       "5967.1648  148.4421 "
      ]
     },
     "metadata": {},
     "output_type": "display_data"
    },
    {
     "data": {
      "image/png": "[encoded data removed]",
      "text/plain": [
       "Plot with title \"Histogram of godelValuePoints[, 1]\""
      ]
     },
     "metadata": {},
     "output_type": "display_data"
    }
   ],
   "source": [
    "fit <- fitdistr(godelValuePoints[, 1], \"normal\")\n",
    "para <- fit$estimate\n",
    "hist(godelValuePoints[, 1], prob = TRUE, breaks=100)\n",
    "curve(dnorm(x, para[1], para[2]), col = 2, add = TRUE)\n",
    "para"
   ]
  },
  {
   "cell_type": "markdown",
   "metadata": {},
   "source": [
    "Finally, we can compare the theoretical mean and std with the ones infered above. For reference, the corresponding base values are the following:\n",
    "\n",
    "\n",
    "$$P_1 = \\sum_{k=1}^n log(p_k)$$\n",
    "\n",
    "$$P_2 = \\sum_{k=1}^n (log(p_k))^2$$\n",
    "\n",
    "where $p_k$ is the $k$th prime number.\n",
    "\n",
    "We can distinguish the following two cases:\n",
    "\n",
    "1. Each base has equal probability of appearance, equal to 0.25\n",
    "\n",
    "$$mean_{theory-all-0.25} = P1 * 2.5$$\n",
    "\n",
    "$$std_{theory-all-0.25} = \\sqrt{P2 * 1.25}$$\n",
    "\n",
    "2. A has a probability of 0.3 (and we ignore the probabilities of the other bases)\n",
    "\n",
    "$$mean_{theory-A-0.3} = P1 * 0.3$$\n",
    "\n",
    "$$std_{theory-A-0.3} = \\sqrt{P2 * 0.3 * (1-0.3)}$$"
   ]
  },
  {
   "cell_type": "code",
   "execution_count": 19,
   "metadata": {},
   "outputs": [],
   "source": [
    "P1 <- sum(log(primes[1:seqLengthLimit]))\n",
    "P2 <- sum((log(primes[1:seqLengthLimit]))^2)\n",
    "\n",
    "theoreticalMeanEqual <- P1*2.5\n",
    "theoreticalStdEqual <- sqrt(P2*1.25)"
   ]
  },
  {
   "cell_type": "markdown",
   "metadata": {},
   "source": [
    "For the first case, the theoretical values are (the experimental ones are shown below):"
   ]
  },
  {
   "cell_type": "code",
   "execution_count": 20,
   "metadata": {},
   "outputs": [
    {
     "data": {
      "text/html": [
       "5966.88428247596"
      ],
      "text/latex": [
       "5966.88428247596"
      ],
      "text/markdown": [
       "5966.88428247596"
      ],
      "text/plain": [
       "[1] 5966.884"
      ]
     },
     "metadata": {},
     "output_type": "display_data"
    },
    {
     "data": {
      "text/html": [
       "142.752138094607"
      ],
      "text/latex": [
       "142.752138094607"
      ],
      "text/markdown": [
       "142.752138094607"
      ],
      "text/plain": [
       "[1] 142.7521"
      ]
     },
     "metadata": {},
     "output_type": "display_data"
    },
    {
     "data": {
      "text/html": [
       "<dl class=dl-horizontal>\n",
       "\t<dt>mean</dt>\n",
       "\t\t<dd>5967.1647889962</dd>\n",
       "\t<dt>sd</dt>\n",
       "\t\t<dd>148.442093263115</dd>\n",
       "</dl>\n"
      ],
      "text/latex": [
       "\\begin{description*}\n",
       "\\item[mean] 5967.1647889962\n",
       "\\item[sd] 148.442093263115\n",
       "\\end{description*}\n"
      ],
      "text/markdown": [
       "mean\n",
       ":   5967.1647889962sd\n",
       ":   148.442093263115\n",
       "\n"
      ],
      "text/plain": [
       "     mean        sd \n",
       "5967.1648  148.4421 "
      ]
     },
     "metadata": {},
     "output_type": "display_data"
    }
   ],
   "source": [
    "theoreticalMeanEqual\n",
    "theoreticalStdEqual\n",
    "para"
   ]
  },
  {
   "cell_type": "markdown",
   "metadata": {},
   "source": [
    "(_the end_)"
   ]
  }
 ],
 "metadata": {
  "kernelspec": {
   "display_name": "R",
   "language": "R",
   "name": "ir"
  },
  "language_info": {
   "codemirror_mode": "r",
   "file_extension": ".r",
   "mimetype": "text/x-r-source",
   "name": "R",
   "pygments_lexer": "r",
   "version": "3.6.0"
  }
 },
 "nbformat": 4,
 "nbformat_minor": 2
}
