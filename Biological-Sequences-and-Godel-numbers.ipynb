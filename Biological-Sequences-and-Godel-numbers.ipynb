{
 "cells": [
  {
   "cell_type": "code",
   "execution_count": 1,
   "metadata": {},
   "outputs": [
    {
     "name": "stderr",
     "output_type": "stream",
     "text": [
      "Loading required package: magrittr\n"
     ]
    }
   ],
   "source": [
    "library(seqinr)\n",
    "library(MASS)\n",
    "library(ggplot2)\n",
    "library(ggpubr)"
   ]
  },
  {
   "cell_type": "markdown",
   "metadata": {},
   "source": [
    "First of all, in order to produce the list of prime numbers required, we will use a function for the [Sieve of Eratosthenes](https://en.wikipedia.org/wiki/Sieve_of_Eratosthenes)."
   ]
  },
  {
   "cell_type": "code",
   "execution_count": 2,
   "metadata": {},
   "outputs": [],
   "source": [
    "sieve <- function(n) {\n",
    "  n <- as.integer(n)\n",
    "  if(n > 1e6) stop(\"n too large\")\n",
    "  primes <- rep(TRUE, n)\n",
    "  primes[1] <- FALSE\n",
    "  last.prime <- 2L\n",
    "  for(i in last.prime:floor(sqrt(n)))\n",
    "  {\n",
    "    primes[seq.int(2L*last.prime, n, last.prime)] <- FALSE\n",
    "    last.prime <- last.prime + min(which(primes[(last.prime+1):n]))\n",
    "  }\n",
    "  which(primes)\n",
    "}"
   ]
  },
  {
   "cell_type": "markdown",
   "metadata": {},
   "source": [
    "The next function reads a FASTA formated text file, either for DNA or AA sequences:"
   ]
  },
  {
   "cell_type": "code",
   "execution_count": 3,
   "metadata": {},
   "outputs": [],
   "source": [
    "seqList <- function(x, type) {\n",
    "  if (type == \"DNA\") {\n",
    "    as.list(read.fasta(x,\n",
    "                       as.string = FALSE,\n",
    "                       seqtype=\"DNA\",\n",
    "                       seqonly = FALSE,\n",
    "                       strip.desc = TRUE))\n",
    "  }\n",
    "  else {\n",
    "    if (type == \"AA\") {\n",
    "      as.list(read.fasta(x,\n",
    "                         as.string = FALSE,\n",
    "                         seqtype=\"AA\",\n",
    "                         seqonly = FALSE,\n",
    "                         strip.desc = TRUE))\n",
    "    }\n",
    "    else {\n",
    "      NULL\n",
    "    }\n",
    "  }\n",
    "}"
   ]
  },
  {
   "cell_type": "markdown",
   "metadata": {},
   "source": [
    "This function produces `count` nucleotide sequences of length `length`, with the probability of appearance for each nucleotide adhering to the parameter `prob` (default is equal distribution), and stores them in fasta format in the file `fileNameRandSeqs`."
   ]
  },
  {
   "cell_type": "code",
   "execution_count": 4,
   "metadata": {},
   "outputs": [],
   "source": [
    "createRandomSequencesBasedOnDistr <- function(count, length, prob=c(0.25,0.25,0.25,0.25), fileNameRandSeqs) {\n",
    "  \n",
    "  sink(fileNameRandSeqs)\n",
    "  for (i in 1:count) {\n",
    "    cat(\">Seq\", i, \"\\n\", sep = \"\")\n",
    "    seqX <- sample(c(\"A\",\"C\",\"G\",\"T\"), length, rep=TRUE, prob)\n",
    "    cat(paste(seqX,collapse=\"\"), \"\\n\", sep = \"\")\n",
    "  }\n",
    "  sink()\n",
    "}"
   ]
  },
  {
   "cell_type": "markdown",
   "metadata": {},
   "source": [
    "This function creates a random permutation of values (1 to 4, or 1 to 23 based on the `type` value), for as many times as the number of seeds provided in the `seedList`."
   ]
  },
  {
   "cell_type": "code",
   "execution_count": 5,
   "metadata": {},
   "outputs": [],
   "source": [
    "createRandomSequenceValues <- function(seedList, type) {\n",
    "  \n",
    "  if ( type == \"DNA\" ) {\n",
    "    results <- matrix(, nrow = length(seedList), ncol = 4)\n",
    "  }\n",
    "  else if ( type == \"AA\" ) {\n",
    "    results <- matrix(, nrow = length(seedList), ncol = 23)\n",
    "  }\n",
    "  \n",
    "  for (i in 1:length(seedList)) {\n",
    "    if ( type == \"DNA\" ) {\n",
    "      results[i,] <- sample(seq(from = 1, to = 4, by = 1), size = 4, replace = FALSE)\n",
    "    }\n",
    "    else if ( type == \"AA\" ) {\n",
    "      results[i,] <- sample(seq(from = 1, to = 23, by = 1), size = 23, replace = FALSE)\n",
    "    }\n",
    "  }\n",
    "  return(results)\n",
    "}"
   ]
  },
  {
   "cell_type": "markdown",
   "metadata": {},
   "source": [
    "The next function assigns random values to each of the letters (either the four bases in DNA or the 22+1 aminoacids). In each case, the exact random sequence is printed out, in order to retrieve the exact allocation if necessary:"
   ]
  },
  {
   "cell_type": "code",
   "execution_count": 6,
   "metadata": {},
   "outputs": [],
   "source": [
    "assignSets <- function(randSequenceValues, type) {\n",
    "  \n",
    "  stringValues <- \"\"\n",
    "  \n",
    "  if (type == \"DNA\") {\n",
    "    #DNA Set\n",
    "    cat(\"Sequence Values: (\")\n",
    "    \n",
    "    for (i in 1:4) {\n",
    "      stringValues <- paste(stringValues, randSequenceValues[i], \", \")\n",
    "    }\n",
    "    cat(stringValues)\n",
    "    cat(\")\\n\")\n",
    "    assign(\"a\", randSequenceValues[1], envir = .GlobalEnv)\n",
    "    assign(\"t\", randSequenceValues[2], envir = .GlobalEnv)\n",
    "    assign(\"g\", randSequenceValues[3], envir = .GlobalEnv)\n",
    "    assign(\"c\", randSequenceValues[4], envir = .GlobalEnv)\n",
    "  }\n",
    "  else if ( type == \"AA\") {\n",
    "    # AA Set 1\n",
    "    cat(\"Sequence Values: (\")\n",
    "    for (i in 1:23) {\n",
    "      stringValues <- paste(stringValues, randSequenceValues[i], \", \")\n",
    "    }\n",
    "    cat(stringValues)\n",
    "    cat(\")\\n\")\n",
    "    assign(\"A\", randSequenceValues[1], envir = .GlobalEnv) # alanine, ala\n",
    "    assign(\"R\", randSequenceValues[2], envir = .GlobalEnv) # arginine, arg\n",
    "    assign(\"N\", randSequenceValues[3], envir = .GlobalEnv) # asparagine, asn\n",
    "    assign(\"D\", randSequenceValues[4], envir = .GlobalEnv) # aspartic acid, asp\n",
    "    assign(\"B\", randSequenceValues[5], envir = .GlobalEnv) # sparagine or aspartic acid, asx\n",
    "    assign(\"C\", randSequenceValues[6], envir = .GlobalEnv) # cysteine, cys\n",
    "    assign(\"E\", randSequenceValues[7], envir = .GlobalEnv) # glutamic acid, glu\n",
    "    assign(\"Q\", randSequenceValues[8], envir = .GlobalEnv) # glutamine, gln\n",
    "    assign(\"Z\", randSequenceValues[9], envir = .GlobalEnv) # glutamine or glutamic acid, glx\n",
    "    assign(\"G\", randSequenceValues[10], envir = .GlobalEnv) # glycine, gly\n",
    "    assign(\"H\", randSequenceValues[11], envir = .GlobalEnv) # histidine, his\n",
    "    assign(\"I\", randSequenceValues[12], envir = .GlobalEnv) # isoleucine, ile\n",
    "    assign(\"L\", randSequenceValues[13], envir = .GlobalEnv) # leucine, leu\n",
    "    assign(\"K\", randSequenceValues[14], envir = .GlobalEnv) # lysine, lys\n",
    "    assign(\"M\", randSequenceValues[15], envir = .GlobalEnv) # methionine, met\n",
    "    assign(\"F\", randSequenceValues[16], envir = .GlobalEnv) # phenylalanine, phe\n",
    "    assign(\"P\", randSequenceValues[17], envir = .GlobalEnv) # proline, pro\n",
    "    assign(\"S\", randSequenceValues[18], envir = .GlobalEnv) # serine, ser\n",
    "    assign(\"T\", randSequenceValues[19], envir = .GlobalEnv) # threonine, thr\n",
    "    assign(\"W\", randSequenceValues[20], envir = .GlobalEnv) # tryptophan, trp\n",
    "    assign(\"Y\", randSequenceValues[21], envir = .GlobalEnv) # tyrosine, tyr\n",
    "    assign(\"V\", randSequenceValues[22], envir = .GlobalEnv) # valine, val\n",
    "    assign(\"X\", randSequenceValues[23], envir = .GlobalEnv) # undetermined\n",
    "  }\n",
    "  \n",
    "  stringValues\n",
    "}"
   ]
  },
  {
   "cell_type": "markdown",
   "metadata": {},
   "source": [
    "The next function is purely for support, and prints out the statistical summaries of the input variables:"
   ]
  },
  {
   "cell_type": "code",
   "execution_count": 7,
   "metadata": {},
   "outputs": [],
   "source": [
    "godelStatistics <- function(x) {\n",
    "    \n",
    "  if (logOutput) {\n",
    "    cat(paste(\"  Min  : \", summary(x)[1], \"\\n\"))\n",
    "    cat(paste(\"1st Qu.: \", summary(x)[2], \"\\n\"))\n",
    "    cat(paste(\"Median : \", summary(x)[3], \"\\n\"))\n",
    "    cat(paste(\" Mean  : \", summary(x)[4], \"\\n\"))\n",
    "    cat(paste(\"3rd Qu.: \", summary(x)[5], \"\\n\"))\n",
    "    cat(paste(\"  Max  : \", summary(x)[6], \"\\n\"))\n",
    "    cat(paste(\"St. Dev: \", sd(x), \"\\n\"))\n",
    "  }\n",
    "  \n",
    "  results <- list(minG = summary(x)[1], firstQG = summary(x)[2],\n",
    "       medianG = summary(x)[3], meanG = summary(x)[4], \n",
    "       thirdQG = summary(x)[5], maxG = summary(x)[6],\n",
    "       stdG = sd(x))\n",
    "  \n",
    "  return(results)\n",
    "}"
   ]
  },
  {
   "cell_type": "markdown",
   "metadata": {},
   "source": [
    "Starting the application, the next step is to create the list of primes as well as set the input parameters:"
   ]
  },
  {
   "cell_type": "code",
   "execution_count": 8,
   "metadata": {},
   "outputs": [],
   "source": [
    "primes <- sieve(20000) # length of primes should be >= max sequence length\n",
    "logOutput <- FALSE     # debug output\n",
    "numberOfPoints <- 4;   # number of different assignments of letters for Godel numbers\n",
    "replicate <- FALSE     # if we need to set specific seed numbers"
   ]
  },
  {
   "cell_type": "markdown",
   "metadata": {},
   "source": [
    "Create a list of seeds and print out the seeds.\n",
    "\n",
    "Based on `replicate` value, a given experiment can be reproduced. You can replicate the figures produced in the [bioRxiv paper]() by setting the value of `replicate` above to `TRUE` and loading the `seeds.csv` file (this will take ~15' runtime)."
   ]
  },
  {
   "cell_type": "code",
   "execution_count": 9,
   "metadata": {},
   "outputs": [
    {
     "name": "stdout",
     "output_type": "stream",
     "text": [
      "974 , 325 , 8 , 476 , "
     ]
    }
   ],
   "source": [
    "if (replicate == FALSE) {\n",
    "  seedValuesList <- sample(seq(from = 1, to = 1000, by = 1), size = numberOfPoints, replace = FALSE)\n",
    "  for (i in 1:numberOfPoints) {\n",
    "    cat(paste(seedValuesList[i], \", \"))\n",
    "  }\n",
    "} else {\n",
    "  seedValuesList <- as.numeric(unlist(read.csv(file=\"seeds.csv\", header = FALSE)))\n",
    "  numberOfPoints <- length(seedValuesList)\n",
    "}"
   ]
  },
  {
   "cell_type": "markdown",
   "metadata": {},
   "source": [
    "Decribe the experiment."
   ]
  },
  {
   "cell_type": "code",
   "execution_count": 10,
   "metadata": {},
   "outputs": [],
   "source": [
    "type <- \"DNA\"\n",
    "# The following values should execute within 5 minutes with a good enough resolution\n",
    "seqLengthLimit <- 361\n",
    "numberOfArtificialSeqs <- 821     # \"A\",\"C\",\"G\",\"T\"\n",
    "# amend the following line for your particular distribution on nucloetide presence.\n",
    "createRandomSequencesBasedOnDistr(numberOfArtificialSeqs, seqLengthLimit, c(0.25,0.25,0.25,0.25), \"data/artificialSeqs.fasta\")\n",
    "ompGene.list <- seqList(\"data/artificialSeqs.fasta\", type)\n",
    "# ompGene.list <- seqList(\"data/realSeqs.fasta\", type)\n",
    "ompGene.list.raw <- ompGene.list"
   ]
  },
  {
   "cell_type": "markdown",
   "metadata": {},
   "source": [
    "Create the matrix of rand value assignments for the particular type (AA, DNA)"
   ]
  },
  {
   "cell_type": "code",
   "execution_count": 11,
   "metadata": {},
   "outputs": [
    {
     "data": {
      "text/html": [
       "<table>\n",
       "<caption>A matrix: 4 x 4 of type dbl</caption>\n",
       "<tbody>\n",
       "\t<tr><td>3</td><td>2</td><td>4</td><td>1</td></tr>\n",
       "\t<tr><td>3</td><td>2</td><td>1</td><td>4</td></tr>\n",
       "\t<tr><td>3</td><td>1</td><td>2</td><td>4</td></tr>\n",
       "\t<tr><td>4</td><td>2</td><td>1</td><td>3</td></tr>\n",
       "</tbody>\n",
       "</table>\n"
      ],
      "text/latex": [
       "A matrix: 4 x 4 of type dbl\n",
       "\\begin{tabular}{llll}\n",
       "\t 3 & 2 & 4 & 1\\\\\n",
       "\t 3 & 2 & 1 & 4\\\\\n",
       "\t 3 & 1 & 2 & 4\\\\\n",
       "\t 4 & 2 & 1 & 3\\\\\n",
       "\\end{tabular}\n"
      ],
      "text/markdown": [
       "\n",
       "A matrix: 4 x 4 of type dbl\n",
       "\n",
       "| 3 | 2 | 4 | 1 |\n",
       "| 3 | 2 | 1 | 4 |\n",
       "| 3 | 1 | 2 | 4 |\n",
       "| 4 | 2 | 1 | 3 |\n",
       "\n"
      ],
      "text/plain": [
       "     [,1] [,2] [,3] [,4]\n",
       "[1,] 3    2    4    1   \n",
       "[2,] 3    2    1    4   \n",
       "[3,] 3    1    2    4   \n",
       "[4,] 4    2    1    3   "
      ]
     },
     "metadata": {},
     "output_type": "display_data"
    }
   ],
   "source": [
    "randValues <- createRandomSequenceValues(seedValuesList, type)\n",
    "\n",
    "randValues"
   ]
  },
  {
   "cell_type": "markdown",
   "metadata": {},
   "source": [
    "However, we will also set the first association to the following:\n",
    "\n",
    "`A: 1`, `T: 0`, `G: 0` and `C: 0`"
   ]
  },
  {
   "cell_type": "code",
   "execution_count": 12,
   "metadata": {},
   "outputs": [
    {
     "data": {
      "text/html": [
       "<table>\n",
       "<caption>A matrix: 4 x 4 of type dbl</caption>\n",
       "<tbody>\n",
       "\t<tr><td>3</td><td>2</td><td>4</td><td>1</td></tr>\n",
       "\t<tr><td>3</td><td>2</td><td>1</td><td>4</td></tr>\n",
       "\t<tr><td>3</td><td>1</td><td>2</td><td>4</td></tr>\n",
       "\t<tr><td>4</td><td>2</td><td>1</td><td>3</td></tr>\n",
       "</tbody>\n",
       "</table>\n"
      ],
      "text/latex": [
       "A matrix: 4 x 4 of type dbl\n",
       "\\begin{tabular}{llll}\n",
       "\t 3 & 2 & 4 & 1\\\\\n",
       "\t 3 & 2 & 1 & 4\\\\\n",
       "\t 3 & 1 & 2 & 4\\\\\n",
       "\t 4 & 2 & 1 & 3\\\\\n",
       "\\end{tabular}\n"
      ],
      "text/markdown": [
       "\n",
       "A matrix: 4 x 4 of type dbl\n",
       "\n",
       "| 3 | 2 | 4 | 1 |\n",
       "| 3 | 2 | 1 | 4 |\n",
       "| 3 | 1 | 2 | 4 |\n",
       "| 4 | 2 | 1 | 3 |\n",
       "\n"
      ],
      "text/plain": [
       "     [,1] [,2] [,3] [,4]\n",
       "[1,] 3    2    4    1   \n",
       "[2,] 3    2    1    4   \n",
       "[3,] 3    1    2    4   \n",
       "[4,] 4    2    1    3   "
      ]
     },
     "metadata": {},
     "output_type": "display_data"
    }
   ],
   "source": [
    "# Do not run this cell if you want to check for all nucleotides and not just for A\n",
    "# randValues[1,] <- c(3, 2, 1, 4)\n",
    "randValues"
   ]
  },
  {
   "cell_type": "markdown",
   "metadata": {},
   "source": [
    "Get a set of sequences of equal length"
   ]
  },
  {
   "cell_type": "code",
   "execution_count": 13,
   "metadata": {},
   "outputs": [],
   "source": [
    "ompGene.list <- ompGene.list.raw[which(getLength(ompGene.list.raw) >= 1)]\n",
    "sizeExp <- length(ompGene.list)\n",
    "selectedSequences <- c(1:sizeExp)"
   ]
  },
  {
   "cell_type": "markdown",
   "metadata": {},
   "source": [
    "Create the data frame that will contain godel numbers per iteration and the names"
   ]
  },
  {
   "cell_type": "code",
   "execution_count": 14,
   "metadata": {},
   "outputs": [],
   "source": [
    "godelValuePoints <- data.frame(matrix(0, ncol = numberOfPoints, nrow = sizeExp))\n",
    "namesList <- list()\n",
    "for (i in 1:numberOfPoints) {\n",
    "  namesList[i] <- paste('godel_log_pos', i, sep = '')\n",
    "}\n",
    "godelValuePoints <- setNames(godelValuePoints, namesList)\n",
    "godelValuePoints$seqNames <- unlist(attributes(ompGene.list)$name)"
   ]
  },
  {
   "cell_type": "markdown",
   "metadata": {},
   "source": [
    "We are now ready to calculate the Godel number per sequence, both using the exponential formula as well as the logarithmic formula.\n",
    "\n",
    "For reference purposes, the formulas are as shown below:\n",
    "\n",
    "$$g_{seq} = \\prod_{k=1}^n p_k^{a_k}$$\n",
    "\n",
    "$$G_{seq} = \\sum_{k=1}^n ({a_k} logp_k)$$\n",
    "\n",
    "where $a_k$ is the value corresponding to the base in sequence position $k$, and $p_k$ is the $k$th prime number.\n",
    "\n",
    "We will run the process of constructed the Godel numbers for `numberOfPoints` iterations. The code performing this calculation is the following:"
   ]
  },
  {
   "cell_type": "code",
   "execution_count": 15,
   "metadata": {},
   "outputs": [
    {
     "name": "stdout",
     "output_type": "stream",
     "text": [
      "Sequence Values: ( 3 ,  2 ,  4 ,  1 , )\n",
      "Sequence Values: ( 3 ,  2 ,  1 ,  4 , )\n",
      "Sequence Values: ( 3 ,  1 ,  2 ,  4 , )\n",
      "Sequence Values: ( 4 ,  2 ,  1 ,  3 , )\n"
     ]
    }
   ],
   "source": [
    "stringAssignValues <- vector(mode=\"character\", length=numberOfPoints)\n",
    "\n",
    "for (indexPos in 1:numberOfPoints) {\n",
    "  stringAssignValues[indexPos] <- assignSets(randValues[indexPos,], type)\n",
    "  \n",
    "  godel.value.exp <- list()\n",
    "  godel.value.log <- list()\n",
    "  \n",
    "  for (indexSeq in selectedSequences) {\n",
    "    \n",
    "    godel.value.exp[[indexSeq]] <- 1\n",
    "    godel.value.log[[indexSeq]] <- 0\n",
    "    \n",
    "    if (logOutput) {\n",
    "      cat(\"Sequence length  \")\n",
    "      cat(indexSeq)\n",
    "      cat(\"  :\")\n",
    "      cat(length(ompGene.list[indexSeq][[1]]))\n",
    "      cat(\"\\n\")\n",
    "    }\n",
    "\n",
    "    for (i in 1:length(ompGene.list[indexSeq][[1]])) {\n",
    "      \n",
    "      prime <- as.numeric(primes[i])\n",
    "      alpha <- as.numeric(get(as.character(ompGene.list[[indexSeq]])[i]))\n",
    "      \n",
    "      godel.value.exp[[indexSeq]] <- godel.value.exp[[indexSeq]] * prime ** alpha\n",
    "      godel.value.log[[indexSeq]] <- godel.value.log[[indexSeq]] + alpha*log(prime)\n",
    "    }\n",
    "    \n",
    "  }\n",
    "  \n",
    "  godelValuePoints[, paste('godel_log_pos', indexPos, sep = '')] <- unlist(godel.value.log)\n",
    "}"
   ]
  },
  {
   "cell_type": "markdown",
   "metadata": {},
   "source": [
    "It is important to note that, given the average length of the sequences involved, the sum of exponentials reaches the limit of the calculable numbers, and therefore an Infinity indication is returned. The logarithmic produces much more manageable values.\n",
    "\n",
    "Finally, we can produce for each \"coordinate\" the summary of the base statistcs."
   ]
  },
  {
   "cell_type": "code",
   "execution_count": 16,
   "metadata": {},
   "outputs": [
    {
     "data": {
      "text/html": [
       "<table>\n",
       "<caption>A data.frame: 4 x 7</caption>\n",
       "<thead>\n",
       "\t<tr><th scope=col>minG</th><th scope=col>firstQG</th><th scope=col>medianG</th><th scope=col>meanG</th><th scope=col>thirdQG</th><th scope=col>maxG</th><th scope=col>stdG</th></tr>\n",
       "\t<tr><th scope=col>&lt;dbl&gt;</th><th scope=col>&lt;dbl&gt;</th><th scope=col>&lt;dbl&gt;</th><th scope=col>&lt;dbl&gt;</th><th scope=col>&lt;dbl&gt;</th><th scope=col>&lt;dbl&gt;</th><th scope=col>&lt;dbl&gt;</th></tr>\n",
       "</thead>\n",
       "<tbody>\n",
       "\t<tr><td>5577.526</td><td>5876.150</td><td>5969.809</td><td>5964.351</td><td>6068.379</td><td>6397.746</td><td>146.3888</td></tr>\n",
       "\t<tr><td>5557.299</td><td>5872.284</td><td>5978.491</td><td>5974.229</td><td>6067.484</td><td>6501.258</td><td>143.9502</td></tr>\n",
       "\t<tr><td>5490.507</td><td>5878.510</td><td>5979.453</td><td>5976.740</td><td>6073.236</td><td>6531.718</td><td>145.7073</td></tr>\n",
       "\t<tr><td>5576.471</td><td>5872.480</td><td>5969.244</td><td>5973.236</td><td>6072.649</td><td>6398.579</td><td>141.3233</td></tr>\n",
       "</tbody>\n",
       "</table>\n"
      ],
      "text/latex": [
       "A data.frame: 4 x 7\n",
       "\\begin{tabular}{r|lllllll}\n",
       " minG & firstQG & medianG & meanG & thirdQG & maxG & stdG\\\\\n",
       " <dbl> & <dbl> & <dbl> & <dbl> & <dbl> & <dbl> & <dbl>\\\\\n",
       "\\hline\n",
       "\t 5577.526 & 5876.150 & 5969.809 & 5964.351 & 6068.379 & 6397.746 & 146.3888\\\\\n",
       "\t 5557.299 & 5872.284 & 5978.491 & 5974.229 & 6067.484 & 6501.258 & 143.9502\\\\\n",
       "\t 5490.507 & 5878.510 & 5979.453 & 5976.740 & 6073.236 & 6531.718 & 145.7073\\\\\n",
       "\t 5576.471 & 5872.480 & 5969.244 & 5973.236 & 6072.649 & 6398.579 & 141.3233\\\\\n",
       "\\end{tabular}\n"
      ],
      "text/markdown": [
       "\n",
       "A data.frame: 4 x 7\n",
       "\n",
       "| minG &lt;dbl&gt; | firstQG &lt;dbl&gt; | medianG &lt;dbl&gt; | meanG &lt;dbl&gt; | thirdQG &lt;dbl&gt; | maxG &lt;dbl&gt; | stdG &lt;dbl&gt; |\n",
       "|---|---|---|---|---|---|---|\n",
       "| 5577.526 | 5876.150 | 5969.809 | 5964.351 | 6068.379 | 6397.746 | 146.3888 |\n",
       "| 5557.299 | 5872.284 | 5978.491 | 5974.229 | 6067.484 | 6501.258 | 143.9502 |\n",
       "| 5490.507 | 5878.510 | 5979.453 | 5976.740 | 6073.236 | 6531.718 | 145.7073 |\n",
       "| 5576.471 | 5872.480 | 5969.244 | 5973.236 | 6072.649 | 6398.579 | 141.3233 |\n",
       "\n"
      ],
      "text/plain": [
       "  minG     firstQG  medianG  meanG    thirdQG  maxG     stdG    \n",
       "1 5577.526 5876.150 5969.809 5964.351 6068.379 6397.746 146.3888\n",
       "2 5557.299 5872.284 5978.491 5974.229 6067.484 6501.258 143.9502\n",
       "3 5490.507 5878.510 5979.453 5976.740 6073.236 6531.718 145.7073\n",
       "4 5576.471 5872.480 5969.244 5973.236 6072.649 6398.579 141.3233"
      ]
     },
     "metadata": {},
     "output_type": "display_data"
    }
   ],
   "source": [
    "statsPos <- data.frame(matrix(0, ncol = 7, nrow = numberOfPoints))\n",
    "statsPos <- setNames(statsPos, c(\"minG\", \"firstQG\", \"medianG\", \"meanG\", \"thirdQG\", \"maxG\", \"stdG\"))\n",
    "for (indexPos in 1:numberOfPoints) {\n",
    "  statsPos[indexPos, ] <- godelStatistics(godelValuePoints[, paste('godel_log_pos', indexPos, sep = '')])\n",
    "}\n",
    "\n",
    "statsPos"
   ]
  },
  {
   "cell_type": "markdown",
   "metadata": {},
   "source": [
    "We can compare the theoretical mean and std with the ones infered above. For reference, the corresponding base values are the following:\n",
    "\n",
    "\n",
    "$$P_1 = \\sum_{k=1}^n log(p_k)$$\n",
    "\n",
    "$$P_2 = \\sum_{k=1}^n (log(p_k))^2$$\n",
    "\n",
    "where $p_k$ is the $k$th prime number.\n",
    "\n",
    "We can distinguish the following two cases:\n",
    "\n",
    "1. Each base has equal probability of appearance, equal to 0.25\n",
    "\n",
    "$$mean_{theory-all-0.25} = P1 * 2.5$$\n",
    "\n",
    "$$std_{theory-all-0.25} = \\sqrt{P2 * 1.25}$$\n",
    "\n",
    "2. A has a probability of 0.3 (and we ignore the probabilities of the other bases)\n",
    "\n",
    "$$mean_{theory-A-0.3} = P1 * 0.3$$\n",
    "\n",
    "$$std_{theory-A-0.3} = \\sqrt{P2 * 0.3 * (1-0.3)}$$"
   ]
  },
  {
   "cell_type": "code",
   "execution_count": 17,
   "metadata": {},
   "outputs": [],
   "source": [
    "P1 <- sum(log(primes[1:seqLengthLimit]))\n",
    "P2 <- sum((log(primes[1:seqLengthLimit]))^2)\n",
    "\n",
    "theoreticalMeanEqual <- P1*2.5\n",
    "theoreticalStdEqual <- sqrt(P2*1.25)"
   ]
  },
  {
   "cell_type": "markdown",
   "metadata": {},
   "source": [
    "The theoretical values are:"
   ]
  },
  {
   "cell_type": "code",
   "execution_count": 18,
   "metadata": {},
   "outputs": [
    {
     "data": {
      "text/html": [
       "5966.88428247596"
      ],
      "text/latex": [
       "5966.88428247596"
      ],
      "text/markdown": [
       "5966.88428247596"
      ],
      "text/plain": [
       "[1] 5966.884"
      ]
     },
     "metadata": {},
     "output_type": "display_data"
    },
    {
     "data": {
      "text/html": [
       "142.752138094607"
      ],
      "text/latex": [
       "142.752138094607"
      ],
      "text/markdown": [
       "142.752138094607"
      ],
      "text/plain": [
       "[1] 142.7521"
      ]
     },
     "metadata": {},
     "output_type": "display_data"
    }
   ],
   "source": [
    "theoreticalMeanEqual\n",
    "theoreticalStdEqual"
   ]
  },
  {
   "cell_type": "markdown",
   "metadata": {},
   "source": [
    "We can investigate how close our estimation is to the expected value, by attempting to review the relationship of the produced numbers to a normal distribution, using a fitting curve:"
   ]
  },
  {
   "cell_type": "code",
   "execution_count": 19,
   "metadata": {},
   "outputs": [],
   "source": [
    "para <- matrix(nrow=numberOfPoints, ncol = 2)\n",
    "for (indexPos in 1:numberOfPoints) {\n",
    "  fit <- fitdistr(godelValuePoints[, indexPos], \"normal\")\n",
    "  para[indexPos, 1] <- fit$estimate[\"mean\"]\n",
    "  para[indexPos, 2] <- fit$estimate[\"sd\"]\n",
    "}"
   ]
  },
  {
   "cell_type": "markdown",
   "metadata": {},
   "source": [
    "This is quite useful information, so we will add this to the `statsPos` data frame, including the number-to-letter assignment used in each case."
   ]
  },
  {
   "cell_type": "code",
   "execution_count": 20,
   "metadata": {},
   "outputs": [],
   "source": [
    "statsPos$stringAssignValues <- as.factor(stringAssignValues)\n",
    "statsPos$fit_estimate <- ((para[,1]-theoreticalMeanEqual)/para[,1])*100\n",
    "statsPos$fit_sd <- ((para[,2]-theoreticalStdEqual)/para[,2])*100"
   ]
  },
  {
   "cell_type": "markdown",
   "metadata": {},
   "source": [
    "Now that we have the parameteres that fit the closest normal distribution to the numbers produced by each of the iterations, we can quantify this relationship as follows:"
   ]
  },
  {
   "cell_type": "code",
   "execution_count": 21,
   "metadata": {},
   "outputs": [
    {
     "data": {
      "text/html": [
       "0.0879245875058572"
      ],
      "text/latex": [
       "0.0879245875058572"
      ],
      "text/markdown": [
       "0.0879245875058572"
      ],
      "text/plain": [
       "[1] 0.08792459"
      ]
     },
     "metadata": {},
     "output_type": "display_data"
    }
   ],
   "source": [
    "# Mean of the difference in the Mean value (as a percentage)\n",
    "mean(statsPos$fit_estimate)"
   ]
  },
  {
   "cell_type": "code",
   "execution_count": 22,
   "metadata": {},
   "outputs": [
    {
     "data": {
      "text/html": [
       "1.02312515200517"
      ],
      "text/latex": [
       "1.02312515200517"
      ],
      "text/markdown": [
       "1.02312515200517"
      ],
      "text/plain": [
       "[1] 1.023125"
      ]
     },
     "metadata": {},
     "output_type": "display_data"
    }
   ],
   "source": [
    "# Mean of the difference in the Standard Deviation value (as a percentage)\n",
    "mean(statsPos$fit_sd)"
   ]
  },
  {
   "cell_type": "markdown",
   "metadata": {},
   "source": [
    "Finally, we can visualize these results for one of the iterations. We overlay the histogram of all Godel numbers, the corresponding density distribution (light red area), as well as the curve of the best fitted normal distribution (dotted dark red line): \n",
    "\n",
    "_The example is for iteration #1. Change the value of `indexPos` to produce the figure for a different iteration_"
   ]
  },
  {
   "cell_type": "code",
   "execution_count": 23,
   "metadata": {},
   "outputs": [
    {
     "data": {
      "image/png": "[encoded data removed]",
      "text/plain": [
       "plot without title"
      ]
     },
     "metadata": {},
     "output_type": "display_data"
    }
   ],
   "source": [
    "indexPos = 1\n",
    "\n",
    "binwidthPlot = 5\n",
    "\n",
    "ggplot(godelValuePoints, aes(x=godelValuePoints[, indexPos]), environment = environment()) + \n",
    "  geom_histogram(aes(y=..density..), colour=\"black\", fill=\"white\", binwidth=binwidthPlot)+\n",
    "  geom_density(alpha=.2, fill=\"#FF6666\") +\n",
    "  stat_function(fun = dnorm, args = list(mean = para[indexPos, 1], sd = para[indexPos, 2]), color = \"darkred\", size = 2, linetype = \"dotdash\") +\n",
    "  labs(title= \"Histogram and Density plot of Godel numbers\",x=\"Godel numbers\", y = \"Density\")+\n",
    "  scale_color_brewer(palette=\"Accent\") + \n",
    "  theme_minimal()"
   ]
  },
  {
   "cell_type": "markdown",
   "metadata": {},
   "source": [
    "We will also visualize the difference between theoretical (expected) and observed mean and standard deviation values, for each of the assignments used throughout this experiment, in the following figure. The assignments are sorted in increasing order in relation to the difference in mean - the same order is used in the difference in standard deviation (i.e. the order of assignments is kept consistent for subplots A and B)."
   ]
  },
  {
   "cell_type": "code",
   "execution_count": 24,
   "metadata": {},
   "outputs": [
    {
     "data": {
      "image/png": "[encoded data removed]",
      "text/plain": [
       "plot without title"
      ]
     },
     "metadata": {},
     "output_type": "display_data"
    }
   ],
   "source": [
    "p1 <- ggplot(statsPos, aes(x = reorder(stringAssignValues, fit_estimate), y = fit_estimate, group=1)) +\n",
    "  geom_point() +\n",
    "  geom_line() +\n",
    "  labs(title= \"Difference between theoretical and observed value of Mean (%)\",x=\"Assignments\", y = \"Difference in mean (%)\")+\n",
    "  theme_minimal() +\n",
    "  theme(axis.text.x = element_text(angle = 90, hjust = 1))\n",
    "\n",
    "p2 <- ggplot(statsPos, aes(x = reorder(stringAssignValues, fit_estimate), y = fit_sd, group=1)) +\n",
    "  geom_point() +\n",
    "  geom_line() +\n",
    "  labs(title= \"Difference between theoretical and observed value of standard deviation (%)\",x=\"Assignments\", y = \"Difference in  st. dev. (%)\")+\n",
    "  theme_minimal() +\n",
    "  theme(axis.text.x = element_text(angle = 90, hjust = 1))\n",
    "\n",
    "ggarrange(p1 + rremove(\"x.text\"), p2,\n",
    "          labels = c(\"A\", \"B\"),\n",
    "          ncol = 1, nrow = 2)"
   ]
  },
  {
   "cell_type": "markdown",
   "metadata": {},
   "source": [
    "_**the end**_"
   ]
  }
 ],
 "metadata": {
  "kernelspec": {
   "display_name": "R",
   "language": "R",
   "name": "ir"
  },
  "language_info": {
   "codemirror_mode": "r",
   "file_extension": ".r",
   "mimetype": "text/x-r-source",
   "name": "R",
   "pygments_lexer": "r",
   "version": "3.6.1"
  }
 },
 "nbformat": 4,
 "nbformat_minor": 2
}
